{
  "nbformat": 4,
  "nbformat_minor": 0,
  "metadata": {
    "colab": {
      "provenance": []
    },
    "kernelspec": {
      "name": "python3",
      "display_name": "Python 3"
    },
    "language_info": {
      "name": "python"
    }
  },
  "cells": [
    {
      "cell_type": "code",
      "source": [
        "  # Step 1: Import Libraries\n",
        "import os\n",
        "import glob\n",
        "import numpy as np\n",
        "import cv2\n",
        "from sklearn.model_selection import train_test_split\n",
        "from tensorflow.keras.preprocessing.image import ImageDataGenerator\n",
        "from tensorflow.keras.layers import Input, Conv2D, Flatten, Dense, Lambda, Dropout, BatchNormalization, MaxPooling2D\n",
        "from tensorflow.keras.models import Model, Sequential\n",
        "from tensorflow.keras.optimizers import Adam\n",
        "from sklearn.metrics import classification_report, confusion_matrix\n",
        "import seaborn as sns\n",
        "import matplotlib.pyplot as plt\n",
        "import tensorflow as tf"
      ],
      "metadata": {
        "id": "IJsguses6T9q"
      },
      "execution_count": 1,
      "outputs": []
    },
    {
      "cell_type": "code",
      "source": [
        "# Step 2: Download Dataset (Make sure you have Kaggle API set up)\n",
        "import kagglehub\n",
        "path = kagglehub.dataset_download(\"divyanshrai/handwritten-signatures\")\n",
        "dataset_path = '/root/.cache/kagglehub/datasets/divyanshrai/handwritten-signatures/versions/2/Dataset_Signature_Final/Dataset'"
      ],
      "metadata": {
        "id": "Rtc2qgkm6VtZ",
        "colab": {
          "base_uri": "https://localhost:8080/"
        },
        "outputId": "36addd20-7fbf-486e-b3c7-9928e11b6586"
      },
      "execution_count": 2,
      "outputs": [
        {
          "output_type": "stream",
          "name": "stdout",
          "text": [
            "Downloading from https://www.kaggle.com/api/v1/datasets/download/divyanshrai/handwritten-signatures?dataset_version_number=2...\n"
          ]
        },
        {
          "output_type": "stream",
          "name": "stderr",
          "text": [
            "100%|██████████| 370M/370M [00:08<00:00, 47.3MB/s]"
          ]
        },
        {
          "output_type": "stream",
          "name": "stdout",
          "text": [
            "Extracting files...\n"
          ]
        },
        {
          "output_type": "stream",
          "name": "stderr",
          "text": [
            "\n"
          ]
        }
      ]
    },
    {
      "cell_type": "code",
      "source": [
        "# Step 3: Load Paths\n",
        "real_signs = []\n",
        "forged_signs = []\n",
        "\n",
        "for i in range(1, 5):  # Iterate through dataset1, dataset2, dataset3, dataset4\n",
        "    real_path = os.path.join(dataset_path, f'dataset{i}', 'real', '*.*')\n",
        "    forged_path = os.path.join(dataset_path, f'dataset{i}', 'forge', '*.*')\n",
        "\n",
        "    real_signs.extend(glob.glob(real_path))\n",
        "    forged_signs.extend(glob.glob(forged_path))"
      ],
      "metadata": {
        "id": "V3r7glx66Xmf"
      },
      "execution_count": 3,
      "outputs": []
    },
    {
      "cell_type": "code",
      "source": [
        "# Step 4: Split Data into Train, Validation, and Test Sets\n",
        "real_train, real_temp = train_test_split(real_signs, test_size=0.3, random_state=42)\n",
        "real_val, real_test = train_test_split(real_temp, test_size=0.5, random_state=42)\n",
        "\n",
        "forged_train, forged_temp = train_test_split(forged_signs, test_size=0.3, random_state=42)\n",
        "forged_val, forged_test = train_test_split(forged_temp, test_size=0.5, random_state=42)\n",
        "\n",
        "train_paths = real_train + forged_train\n",
        "val_paths = real_val + forged_val\n",
        "test_paths = real_test + forged_test\n",
        "\n",
        "train_labels = [1] * len(real_train) + [0] * len(forged_train)\n",
        "val_labels = [1] * len(real_val) + [0] * len(forged_val)\n",
        "test_labels = [1] * len(real_test) + [0] * len(forged_test)"
      ],
      "metadata": {
        "id": "lfUSiVFG6aRx"
      },
      "execution_count": 4,
      "outputs": []
    },
    {
      "cell_type": "code",
      "source": [
        "# Step 5: Preprocessing Function\n",
        "def preprocess_image(image_path):\n",
        "    image = cv2.imread(image_path)\n",
        "    gray_image = cv2.cvtColor(image, cv2.COLOR_BGR2GRAY)\n",
        "    noise_removed = cv2.GaussianBlur(gray_image, (5, 5), 0)\n",
        "    _, binary_image = cv2.threshold(noise_removed, 127, 255, cv2.THRESH_BINARY)\n",
        "    resized_image = cv2.resize(binary_image, (128, 128))\n",
        "    rgb_image = cv2.cvtColor(resized_image, cv2.COLOR_GRAY2RGB)\n",
        "    return rgb_image\n",
        "\n",
        "def load_data(image_paths):\n",
        "    images = [preprocess_image(path) for path in image_paths]\n",
        "    return np.array(images)\n",
        "\n",
        "# Load data for each set\n",
        "X_train = load_data(train_paths)\n",
        "X_val = load_data(val_paths)\n",
        "X_test = load_data(test_paths)\n",
        "\n",
        "# Change the data type to float32\n",
        "X_train = X_train.astype('float32')\n",
        "X_val = X_val.astype('float32')\n",
        "X_test = X_test.astype('float32')\n",
        "\n",
        "# Normalize pixel values\n",
        "X_train /= 255.0\n",
        "X_val /= 255.0\n",
        "X_test /= 255.0"
      ],
      "metadata": {
        "id": "x7BGt8P66erv"
      },
      "execution_count": 5,
      "outputs": []
    },
    {
      "cell_type": "markdown",
      "source": [
        "## Step 6: Define Models for Comparison"
      ],
      "metadata": {
        "id": "cNKx4uJ46kHU"
      }
    },
    {
      "cell_type": "code",
      "source": [
        "# Custom CNN Model\n",
        "def create_custom_cnn(input_shape):\n",
        "    model = Sequential([\n",
        "        Conv2D(32, (3, 3), activation='relu', input_shape=input_shape),\n",
        "        MaxPooling2D(pool_size=(2, 2)),\n",
        "        Conv2D(64, (3, 3), activation='relu'),\n",
        "        MaxPooling2D(pool_size=(2, 2)),\n",
        "        Flatten(),\n",
        "        Dense(128, activation='relu'),\n",
        "        Dropout(0.5),\n",
        "        Dense(1, activation='sigmoid')\n",
        "    ])\n",
        "    return model"
      ],
      "metadata": {
        "id": "WvdV6Q106igp"
      },
      "execution_count": 6,
      "outputs": []
    },
    {
      "cell_type": "code",
      "source": [
        "# VGG16 Model with Transfer Learning\n",
        "from tensorflow.keras.applications import VGG16\n",
        "\n",
        "def create_vgg16_model(input_shape):\n",
        "    base_model = VGG16(weights='imagenet', include_top=False, input_shape=input_shape)\n",
        "    model = Sequential([\n",
        "        base_model,\n",
        "        Flatten(),\n",
        "        Dense(256, activation='relu'),\n",
        "        Dropout(0.5),\n",
        "        Dense(1, activation='sigmoid')\n",
        "    ])\n",
        "    return model"
      ],
      "metadata": {
        "id": "hi1gv4Rb6mHm"
      },
      "execution_count": 7,
      "outputs": []
    },
    {
      "cell_type": "code",
      "source": [
        "# Siamese Network Model\n",
        "def create_siamese_model(input_shape):\n",
        "    input_layer = Input(shape=input_shape)\n",
        "\n",
        "    x = Conv2D(64, (5, 5), activation='relu')(input_layer)\n",
        "    x = Flatten()(x)\n",
        "    x = Dense(128)(x)\n",
        "\n",
        "    model = Model(inputs=input_layer, outputs=x)\n",
        "    return model\n",
        "\n",
        "def siamese_network(input_shape):\n",
        "    base_model = create_siamese_model(input_shape)\n",
        "\n",
        "    input_a = Input(shape=input_shape)\n",
        "    input_b = Input(shape=input_shape)\n",
        "\n",
        "    encoded_a = base_model(input_a)\n",
        "    encoded_b = base_model(input_b)\n",
        "\n",
        "    distance = Lambda(lambda tensors: tf.abs(tensors[0] - tensors[1]))([encoded_a, encoded_b])\n",
        "\n",
        "    output = Dense(1, activation='sigmoid')(distance)\n",
        "\n",
        "    return Model(inputs=[input_a, input_b], outputs=output)"
      ],
      "metadata": {
        "id": "D28Hiqy56n_q"
      },
      "execution_count": 8,
      "outputs": []
    },
    {
      "cell_type": "markdown",
      "source": [
        "## Step 7: Train and Evaluate Each Model"
      ],
      "metadata": {
        "id": "kokRhZHY7CnK"
      }
    },
    {
      "cell_type": "code",
      "source": [
        "def train_and_evaluate(model_name):\n",
        "    if model_name == \"Custom CNN\":\n",
        "        model = create_custom_cnn((128, 128, 3))\n",
        "    elif model_name == \"VGG16\":\n",
        "        model = create_vgg16_model((128, 128, 3))\n",
        "\n",
        "    # Compile the model\n",
        "    model.compile(optimizer=Adam(learning_rate=0.00001), loss='binary_crossentropy', metrics=['accuracy'])\n",
        "\n",
        "    # Train the model\n",
        "    history = model.fit(X_train,\n",
        "                        np.array(train_labels),  # Convert train_labels to a NumPy array\n",
        "                        validation_data=(X_val, np.array(val_labels)),  # Convert val_labels to a NumPy array\n",
        "                        epochs=20,\n",
        "                        batch_size=32,\n",
        "                        verbose=1)\n",
        "\n",
        "    # Evaluate on test data\n",
        "    test_loss, test_accuracy = model.evaluate(X_test, np.array(test_labels))  # Convert test_labels to a NumPy array\n",
        "\n",
        "    print(f\"{model_name} Test Accuracy: {test_accuracy * 100:.2f}%\")\n",
        "\n",
        "    return history"
      ],
      "metadata": {
        "id": "ZlPyBaQF6si7"
      },
      "execution_count": 9,
      "outputs": []
    },
    {
      "cell_type": "code",
      "source": [
        "# Train Custom CNN and VGG16 models\n",
        "custom_cnn_history=train_and_evaluate(\"Custom CNN\")\n",
        "vgg16_history=train_and_evaluate(\"VGG16\")\n"
      ],
      "metadata": {
        "colab": {
          "base_uri": "https://localhost:8080/"
        },
        "id": "rNTYvh8B6uNV",
        "outputId": "74f7639b-80ca-4918-a1c9-d95909440fc7"
      },
      "execution_count": 11,
      "outputs": [
        {
          "metadata": {
            "tags": null
          },
          "name": "stderr",
          "output_type": "stream",
          "text": [
            "/usr/local/lib/python3.10/dist-packages/keras/src/layers/convolutional/base_conv.py:107: UserWarning: Do not pass an `input_shape`/`input_dim` argument to a layer. When using Sequential models, prefer using an `Input(shape)` object as the first layer in the model instead.\n",
            "  super().__init__(activity_regularizer=activity_regularizer, **kwargs)\n"
          ]
        },
        {
          "output_type": "stream",
          "name": "stdout",
          "text": [
            "Epoch 1/20\n",
            "\u001b[1m14/14\u001b[0m \u001b[32m━━━━━━━━━━━━━━━━━━━━\u001b[0m\u001b[37m\u001b[0m \u001b[1m23s\u001b[0m 1s/step - accuracy: 0.5252 - loss: 0.7041 - val_accuracy: 0.5745 - val_loss: 0.6813\n",
            "Epoch 2/20\n",
            "\u001b[1m14/14\u001b[0m \u001b[32m━━━━━━━━━━━━━━━━━━━━\u001b[0m\u001b[37m\u001b[0m \u001b[1m32s\u001b[0m 872ms/step - accuracy: 0.5751 - loss: 0.6853 - val_accuracy: 0.5745 - val_loss: 0.6799\n",
            "Epoch 3/20\n",
            "\u001b[1m14/14\u001b[0m \u001b[32m━━━━━━━━━━━━━━━━━━━━\u001b[0m\u001b[37m\u001b[0m \u001b[1m20s\u001b[0m 864ms/step - accuracy: 0.5191 - loss: 0.6938 - val_accuracy: 0.5745 - val_loss: 0.6739\n",
            "Epoch 4/20\n",
            "\u001b[1m14/14\u001b[0m \u001b[32m━━━━━━━━━━━━━━━━━━━━\u001b[0m\u001b[37m\u001b[0m \u001b[1m20s\u001b[0m 845ms/step - accuracy: 0.5977 - loss: 0.6670 - val_accuracy: 0.5745 - val_loss: 0.6714\n",
            "Epoch 5/20\n",
            "\u001b[1m14/14\u001b[0m \u001b[32m━━━━━━━━━━━━━━━━━━━━\u001b[0m\u001b[37m\u001b[0m \u001b[1m11s\u001b[0m 820ms/step - accuracy: 0.5776 - loss: 0.6731 - val_accuracy: 0.5745 - val_loss: 0.6685\n",
            "Epoch 6/20\n",
            "\u001b[1m14/14\u001b[0m \u001b[32m━━━━━━━━━━━━━━━━━━━━\u001b[0m\u001b[37m\u001b[0m \u001b[1m19s\u001b[0m 731ms/step - accuracy: 0.5646 - loss: 0.6772 - val_accuracy: 0.5745 - val_loss: 0.6681\n",
            "Epoch 7/20\n",
            "\u001b[1m14/14\u001b[0m \u001b[32m━━━━━━━━━━━━━━━━━━━━\u001b[0m\u001b[37m\u001b[0m \u001b[1m22s\u001b[0m 828ms/step - accuracy: 0.5982 - loss: 0.6557 - val_accuracy: 0.5213 - val_loss: 0.6696\n",
            "Epoch 8/20\n",
            "\u001b[1m14/14\u001b[0m \u001b[32m━━━━━━━━━━━━━━━━━━━━\u001b[0m\u001b[37m\u001b[0m \u001b[1m21s\u001b[0m 839ms/step - accuracy: 0.5550 - loss: 0.6696 - val_accuracy: 0.5745 - val_loss: 0.6646\n",
            "Epoch 9/20\n",
            "\u001b[1m14/14\u001b[0m \u001b[32m━━━━━━━━━━━━━━━━━━━━\u001b[0m\u001b[37m\u001b[0m \u001b[1m20s\u001b[0m 834ms/step - accuracy: 0.5965 - loss: 0.6589 - val_accuracy: 0.5745 - val_loss: 0.6624\n",
            "Epoch 10/20\n",
            "\u001b[1m14/14\u001b[0m \u001b[32m━━━━━━━━━━━━━━━━━━━━\u001b[0m\u001b[37m\u001b[0m \u001b[1m21s\u001b[0m 836ms/step - accuracy: 0.6014 - loss: 0.6416 - val_accuracy: 0.5106 - val_loss: 0.6623\n",
            "Epoch 11/20\n",
            "\u001b[1m14/14\u001b[0m \u001b[32m━━━━━━━━━━━━━━━━━━━━\u001b[0m\u001b[37m\u001b[0m \u001b[1m20s\u001b[0m 824ms/step - accuracy: 0.5740 - loss: 0.6423 - val_accuracy: 0.5745 - val_loss: 0.6599\n",
            "Epoch 12/20\n",
            "\u001b[1m14/14\u001b[0m \u001b[32m━━━━━━━━━━━━━━━━━━━━\u001b[0m\u001b[37m\u001b[0m \u001b[1m21s\u001b[0m 856ms/step - accuracy: 0.5767 - loss: 0.6388 - val_accuracy: 0.5745 - val_loss: 0.6591\n",
            "Epoch 13/20\n",
            "\u001b[1m14/14\u001b[0m \u001b[32m━━━━━━━━━━━━━━━━━━━━\u001b[0m\u001b[37m\u001b[0m \u001b[1m20s\u001b[0m 799ms/step - accuracy: 0.5809 - loss: 0.6481 - val_accuracy: 0.5319 - val_loss: 0.6581\n",
            "Epoch 14/20\n",
            "\u001b[1m14/14\u001b[0m \u001b[32m━━━━━━━━━━━━━━━━━━━━\u001b[0m\u001b[37m\u001b[0m \u001b[1m20s\u001b[0m 814ms/step - accuracy: 0.5996 - loss: 0.6383 - val_accuracy: 0.5745 - val_loss: 0.6573\n",
            "Epoch 15/20\n",
            "\u001b[1m14/14\u001b[0m \u001b[32m━━━━━━━━━━━━━━━━━━━━\u001b[0m\u001b[37m\u001b[0m \u001b[1m20s\u001b[0m 772ms/step - accuracy: 0.5530 - loss: 0.6507 - val_accuracy: 0.5319 - val_loss: 0.6567\n",
            "Epoch 16/20\n",
            "\u001b[1m14/14\u001b[0m \u001b[32m━━━━━━━━━━━━━━━━━━━━\u001b[0m\u001b[37m\u001b[0m \u001b[1m12s\u001b[0m 838ms/step - accuracy: 0.5605 - loss: 0.6331 - val_accuracy: 0.5745 - val_loss: 0.6554\n",
            "Epoch 17/20\n",
            "\u001b[1m14/14\u001b[0m \u001b[32m━━━━━━━━━━━━━━━━━━━━\u001b[0m\u001b[37m\u001b[0m \u001b[1m20s\u001b[0m 836ms/step - accuracy: 0.5831 - loss: 0.6248 - val_accuracy: 0.5426 - val_loss: 0.6548\n",
            "Epoch 18/20\n",
            "\u001b[1m14/14\u001b[0m \u001b[32m━━━━━━━━━━━━━━━━━━━━\u001b[0m\u001b[37m\u001b[0m \u001b[1m22s\u001b[0m 900ms/step - accuracy: 0.6027 - loss: 0.6152 - val_accuracy: 0.5319 - val_loss: 0.6536\n",
            "Epoch 19/20\n",
            "\u001b[1m14/14\u001b[0m \u001b[32m━━━━━━━━━━━━━━━━━━━━\u001b[0m\u001b[37m\u001b[0m \u001b[1m19s\u001b[0m 810ms/step - accuracy: 0.5977 - loss: 0.6074 - val_accuracy: 0.5745 - val_loss: 0.6534\n",
            "Epoch 20/20\n",
            "\u001b[1m14/14\u001b[0m \u001b[32m━━━━━━━━━━━━━━━━━━━━\u001b[0m\u001b[37m\u001b[0m \u001b[1m21s\u001b[0m 847ms/step - accuracy: 0.5965 - loss: 0.6313 - val_accuracy: 0.5745 - val_loss: 0.6518\n",
            "\u001b[1m3/3\u001b[0m \u001b[32m━━━━━━━━━━━━━━━━━━━━\u001b[0m\u001b[37m\u001b[0m \u001b[1m1s\u001b[0m 191ms/step - accuracy: 0.5733 - loss: 0.6958\n",
            "Custom CNN Test Accuracy: 56.84%\n",
            "Epoch 1/20\n",
            "\u001b[1m14/14\u001b[0m \u001b[32m━━━━━━━━━━━━━━━━━━━━\u001b[0m\u001b[37m\u001b[0m \u001b[1m319s\u001b[0m 22s/step - accuracy: 0.5087 - loss: 0.7877 - val_accuracy: 0.5532 - val_loss: 0.6650\n",
            "Epoch 2/20\n",
            "\u001b[1m14/14\u001b[0m \u001b[32m━━━━━━━━━━━━━━━━━━━━\u001b[0m\u001b[37m\u001b[0m \u001b[1m316s\u001b[0m 22s/step - accuracy: 0.6119 - loss: 0.6797 - val_accuracy: 0.6170 - val_loss: 0.6601\n",
            "Epoch 3/20\n",
            "\u001b[1m14/14\u001b[0m \u001b[32m━━━━━━━━━━━━━━━━━━━━\u001b[0m\u001b[37m\u001b[0m \u001b[1m318s\u001b[0m 22s/step - accuracy: 0.6552 - loss: 0.6029 - val_accuracy: 0.5532 - val_loss: 0.6523\n",
            "Epoch 4/20\n",
            "\u001b[1m14/14\u001b[0m \u001b[32m━━━━━━━━━━━━━━━━━━━━\u001b[0m\u001b[37m\u001b[0m \u001b[1m320s\u001b[0m 22s/step - accuracy: 0.6265 - loss: 0.6249 - val_accuracy: 0.6064 - val_loss: 0.6256\n",
            "Epoch 5/20\n",
            "\u001b[1m14/14\u001b[0m \u001b[32m━━━━━━━━━━━━━━━━━━━━\u001b[0m\u001b[37m\u001b[0m \u001b[1m336s\u001b[0m 23s/step - accuracy: 0.6481 - loss: 0.5841 - val_accuracy: 0.5851 - val_loss: 0.6122\n",
            "Epoch 6/20\n",
            "\u001b[1m14/14\u001b[0m \u001b[32m━━━━━━━━━━━━━━━━━━━━\u001b[0m\u001b[37m\u001b[0m \u001b[1m313s\u001b[0m 22s/step - accuracy: 0.6682 - loss: 0.5647 - val_accuracy: 0.6596 - val_loss: 0.6031\n",
            "Epoch 7/20\n",
            "\u001b[1m14/14\u001b[0m \u001b[32m━━━━━━━━━━━━━━━━━━━━\u001b[0m\u001b[37m\u001b[0m \u001b[1m323s\u001b[0m 23s/step - accuracy: 0.6997 - loss: 0.5098 - val_accuracy: 0.6596 - val_loss: 0.5704\n",
            "Epoch 8/20\n",
            "\u001b[1m14/14\u001b[0m \u001b[32m━━━━━━━━━━━━━━━━━━━━\u001b[0m\u001b[37m\u001b[0m \u001b[1m316s\u001b[0m 22s/step - accuracy: 0.7704 - loss: 0.4502 - val_accuracy: 0.6702 - val_loss: 0.5509\n",
            "Epoch 9/20\n",
            "\u001b[1m14/14\u001b[0m \u001b[32m━━━━━━━━━━━━━━━━━━━━\u001b[0m\u001b[37m\u001b[0m \u001b[1m305s\u001b[0m 22s/step - accuracy: 0.7219 - loss: 0.4523 - val_accuracy: 0.7128 - val_loss: 0.5214\n",
            "Epoch 10/20\n",
            "\u001b[1m14/14\u001b[0m \u001b[32m━━━━━━━━━━━━━━━━━━━━\u001b[0m\u001b[37m\u001b[0m \u001b[1m306s\u001b[0m 22s/step - accuracy: 0.7731 - loss: 0.3939 - val_accuracy: 0.7234 - val_loss: 0.5231\n",
            "Epoch 11/20\n",
            "\u001b[1m14/14\u001b[0m \u001b[32m━━━━━━━━━━━━━━━━━━━━\u001b[0m\u001b[37m\u001b[0m \u001b[1m322s\u001b[0m 22s/step - accuracy: 0.7906 - loss: 0.3870 - val_accuracy: 0.7234 - val_loss: 0.4925\n",
            "Epoch 12/20\n",
            "\u001b[1m14/14\u001b[0m \u001b[32m━━━━━━━━━━━━━━━━━━━━\u001b[0m\u001b[37m\u001b[0m \u001b[1m323s\u001b[0m 22s/step - accuracy: 0.8131 - loss: 0.3258 - val_accuracy: 0.7234 - val_loss: 0.4910\n",
            "Epoch 13/20\n",
            "\u001b[1m14/14\u001b[0m \u001b[32m━━━━━━━━━━━━━━━━━━━━\u001b[0m\u001b[37m\u001b[0m \u001b[1m318s\u001b[0m 22s/step - accuracy: 0.7864 - loss: 0.3323 - val_accuracy: 0.7340 - val_loss: 0.4902\n",
            "Epoch 14/20\n",
            "\u001b[1m14/14\u001b[0m \u001b[32m━━━━━━━━━━━━━━━━━━━━\u001b[0m\u001b[37m\u001b[0m \u001b[1m324s\u001b[0m 22s/step - accuracy: 0.8156 - loss: 0.3084 - val_accuracy: 0.7128 - val_loss: 0.5152\n",
            "Epoch 15/20\n",
            "\u001b[1m14/14\u001b[0m \u001b[32m━━━━━━━━━━━━━━━━━━━━\u001b[0m\u001b[37m\u001b[0m \u001b[1m302s\u001b[0m 22s/step - accuracy: 0.8034 - loss: 0.3232 - val_accuracy: 0.7128 - val_loss: 0.5336\n",
            "Epoch 16/20\n",
            "\u001b[1m14/14\u001b[0m \u001b[32m━━━━━━━━━━━━━━━━━━━━\u001b[0m\u001b[37m\u001b[0m \u001b[1m301s\u001b[0m 22s/step - accuracy: 0.8241 - loss: 0.2830 - val_accuracy: 0.7234 - val_loss: 0.5500\n",
            "Epoch 17/20\n",
            "\u001b[1m14/14\u001b[0m \u001b[32m━━━━━━━━━━━━━━━━━━━━\u001b[0m\u001b[37m\u001b[0m \u001b[1m301s\u001b[0m 21s/step - accuracy: 0.7739 - loss: 0.3231 - val_accuracy: 0.7128 - val_loss: 0.4546\n",
            "Epoch 18/20\n",
            "\u001b[1m14/14\u001b[0m \u001b[32m━━━━━━━━━━━━━━━━━━━━\u001b[0m\u001b[37m\u001b[0m \u001b[1m302s\u001b[0m 22s/step - accuracy: 0.8312 - loss: 0.2908 - val_accuracy: 0.7128 - val_loss: 0.5010\n",
            "Epoch 19/20\n",
            "\u001b[1m14/14\u001b[0m \u001b[32m━━━━━━━━━━━━━━━━━━━━\u001b[0m\u001b[37m\u001b[0m \u001b[1m322s\u001b[0m 22s/step - accuracy: 0.7986 - loss: 0.2856 - val_accuracy: 0.7021 - val_loss: 0.5175\n",
            "Epoch 20/20\n",
            "\u001b[1m14/14\u001b[0m \u001b[32m━━━━━━━━━━━━━━━━━━━━\u001b[0m\u001b[37m\u001b[0m \u001b[1m303s\u001b[0m 22s/step - accuracy: 0.8533 - loss: 0.2548 - val_accuracy: 0.7447 - val_loss: 0.4972\n",
            "\u001b[1m3/3\u001b[0m \u001b[32m━━━━━━━━━━━━━━━━━━━━\u001b[0m\u001b[37m\u001b[0m \u001b[1m17s\u001b[0m 5s/step - accuracy: 0.6797 - loss: 0.5221\n",
            "VGG16 Test Accuracy: 75.79%\n"
          ]
        }
      ]
    },
    {
      "cell_type": "code",
      "source": [
        "def create_pairs(X,y):\n",
        "    pairs=[]\n",
        "    labels=[]\n",
        "\n",
        "    num_classes=np.unique(y).shape[0]\n",
        "\n",
        "    for i in range(len(X)):\n",
        "        for j in range(i + 1,len(X)):\n",
        "            pairs.append([X[i],X[j]])\n",
        "            labels.append(1 if y[i]==y[j] else 0)\n",
        "\n",
        "    return np.array(pairs),np.array(labels)"
      ],
      "metadata": {
        "id": "vlIZIj8z6zUK"
      },
      "execution_count": 12,
      "outputs": []
    },
    {
      "cell_type": "code",
      "source": [
        "# Step 8: Evaluate Siamese Network Model (requires pairs creation)\n",
        "\n",
        "def create_pairs(X,y):\n",
        "    pairs=[]\n",
        "    labels=[]\n",
        "\n",
        "    num_classes=np.unique(y).shape[0]\n",
        "\n",
        "    for i in range(len(X)):\n",
        "        for j in range(i + 1,len(X)):\n",
        "            pairs.append([X[i],X[j]])\n",
        "            labels.append(1 if y[i]==y[j] else 0)\n",
        "\n",
        "    return np.array(pairs),np.array(labels)"
      ],
      "metadata": {
        "id": "F2ITQASf61i_"
      },
      "execution_count": 13,
      "outputs": []
    },
    {
      "cell_type": "code",
      "source": [
        "train_pairs ,train_labels=create_pairs(X_train.reshape(-1 ,128*128*3),train_labels)\n",
        "val_pairs ,val_labels=create_pairs(X_val.reshape(-1 ,128*128*3),val_labels)\n",
        "\n",
        "siamese_model=siamese_network((128 ,128 ,3))\n",
        "siamese_model.compile(optimizer=Adam(learning_rate=0.00001),loss='binary_crossentropy',metrics=['accuracy'])\n",
        "\n",
        "history_siamese=siamese_model.fit([train_pairs[:,0],train_pairs[:,1]],train_labels,\n",
        "                                   validation_data=([val_pairs[:,0],val_pairs[:,1]],val_labels),\n",
        "                                   epochs=20,batch_size=32)\n",
        "\n",
        "# Evaluate Siamese Network on Test Data (Create Test Pairs)\n",
        "test_pairs,test_labels=create_pairs(X_test.reshape(-1 ,128*128*3),test_labels)"
      ],
      "metadata": {
        "id": "6pVz8PMy66G-",
        "colab": {
          "base_uri": "https://localhost:8080/",
          "height": 211
        },
        "outputId": "67d52cd9-d28d-4690-fff8-57205bb7bbfa"
      },
      "execution_count": 10,
      "outputs": [
        {
          "output_type": "error",
          "ename": "NameError",
          "evalue": "name 'create_pairs' is not defined",
          "traceback": [
            "\u001b[0;31m---------------------------------------------------------------------------\u001b[0m",
            "\u001b[0;31mNameError\u001b[0m                                 Traceback (most recent call last)",
            "\u001b[0;32m<ipython-input-10-a80363e6c24c>\u001b[0m in \u001b[0;36m<cell line: 1>\u001b[0;34m()\u001b[0m\n\u001b[0;32m----> 1\u001b[0;31m \u001b[0mtrain_pairs\u001b[0m \u001b[0;34m,\u001b[0m\u001b[0mtrain_labels\u001b[0m\u001b[0;34m=\u001b[0m\u001b[0mcreate_pairs\u001b[0m\u001b[0;34m(\u001b[0m\u001b[0mX_train\u001b[0m\u001b[0;34m.\u001b[0m\u001b[0mreshape\u001b[0m\u001b[0;34m(\u001b[0m\u001b[0;34m-\u001b[0m\u001b[0;36m1\u001b[0m \u001b[0;34m,\u001b[0m\u001b[0;36m128\u001b[0m\u001b[0;34m*\u001b[0m\u001b[0;36m128\u001b[0m\u001b[0;34m*\u001b[0m\u001b[0;36m3\u001b[0m\u001b[0;34m)\u001b[0m\u001b[0;34m,\u001b[0m\u001b[0mtrain_labels\u001b[0m\u001b[0;34m)\u001b[0m\u001b[0;34m\u001b[0m\u001b[0;34m\u001b[0m\u001b[0m\n\u001b[0m\u001b[1;32m      2\u001b[0m \u001b[0mval_pairs\u001b[0m \u001b[0;34m,\u001b[0m\u001b[0mval_labels\u001b[0m\u001b[0;34m=\u001b[0m\u001b[0mcreate_pairs\u001b[0m\u001b[0;34m(\u001b[0m\u001b[0mX_val\u001b[0m\u001b[0;34m.\u001b[0m\u001b[0mreshape\u001b[0m\u001b[0;34m(\u001b[0m\u001b[0;34m-\u001b[0m\u001b[0;36m1\u001b[0m \u001b[0;34m,\u001b[0m\u001b[0;36m128\u001b[0m\u001b[0;34m*\u001b[0m\u001b[0;36m128\u001b[0m\u001b[0;34m*\u001b[0m\u001b[0;36m3\u001b[0m\u001b[0;34m)\u001b[0m\u001b[0;34m,\u001b[0m\u001b[0mval_labels\u001b[0m\u001b[0;34m)\u001b[0m\u001b[0;34m\u001b[0m\u001b[0;34m\u001b[0m\u001b[0m\n\u001b[1;32m      3\u001b[0m \u001b[0;34m\u001b[0m\u001b[0m\n\u001b[1;32m      4\u001b[0m \u001b[0msiamese_model\u001b[0m\u001b[0;34m=\u001b[0m\u001b[0msiamese_network\u001b[0m\u001b[0;34m(\u001b[0m\u001b[0;34m(\u001b[0m\u001b[0;36m128\u001b[0m \u001b[0;34m,\u001b[0m\u001b[0;36m128\u001b[0m \u001b[0;34m,\u001b[0m\u001b[0;36m3\u001b[0m\u001b[0;34m)\u001b[0m\u001b[0;34m)\u001b[0m\u001b[0;34m\u001b[0m\u001b[0;34m\u001b[0m\u001b[0m\n\u001b[1;32m      5\u001b[0m \u001b[0msiamese_model\u001b[0m\u001b[0;34m.\u001b[0m\u001b[0mcompile\u001b[0m\u001b[0;34m(\u001b[0m\u001b[0moptimizer\u001b[0m\u001b[0;34m=\u001b[0m\u001b[0mAdam\u001b[0m\u001b[0;34m(\u001b[0m\u001b[0mlearning_rate\u001b[0m\u001b[0;34m=\u001b[0m\u001b[0;36m0.00001\u001b[0m\u001b[0;34m)\u001b[0m\u001b[0;34m,\u001b[0m\u001b[0mloss\u001b[0m\u001b[0;34m=\u001b[0m\u001b[0;34m'binary_crossentropy'\u001b[0m\u001b[0;34m,\u001b[0m\u001b[0mmetrics\u001b[0m\u001b[0;34m=\u001b[0m\u001b[0;34m[\u001b[0m\u001b[0;34m'accuracy'\u001b[0m\u001b[0;34m]\u001b[0m\u001b[0;34m)\u001b[0m\u001b[0;34m\u001b[0m\u001b[0;34m\u001b[0m\u001b[0m\n",
            "\u001b[0;31mNameError\u001b[0m: name 'create_pairs' is not defined"
          ]
        }
      ]
    },
    {
      "cell_type": "code",
      "source": [
        "def evaluate_siamese_model(model,X,y_true):\n",
        "   y_pred=(model.predict([X[:,0],X[:,1]]) > 0.5).astype(\"int32\")\n",
        "   print(classification_report(y_true,y_pred))\n",
        "   cm=confusion_matrix(y_true,y_pred)\n",
        "   sns.heatmap(cm ,annot=True ,fmt='d' ,cmap='Blues' ,xticklabels=[\"Forged\",\"Real\"] ,yticklabels=[\"Forged\",\"Real\"])\n",
        "   plt.xlabel('Predicted')\n",
        "   plt.ylabel('True')\n",
        "   plt.show()\n",
        "\n",
        "evaluate_siamese_model(siamese_model,test_pairs,test_labels)"
      ],
      "metadata": {
        "id": "JA23fUhP68To"
      },
      "execution_count": null,
      "outputs": []
    },
    {
      "cell_type": "code",
      "execution_count": null,
      "metadata": {
        "id": "de1O9uuGUYzF"
      },
      "outputs": [],
      "source": [
        "# Step 9: Compare Results - Plot Learning Curves for Each Model\n",
        "\n",
        "def plot_learning_curve(history,title):\n",
        "   plt.figure(figsize=(10 ,6))\n",
        "   plt.plot(history.history['accuracy'], label='Train Accuracy')\n",
        "   plt.plot(history.history['val_accuracy'], label='Validation Accuracy')\n",
        "   plt.title(f'{title} Learning Curve')\n",
        "   plt.legend()\n",
        "   plt.show()\n",
        "\n",
        "plot_learning_curve(custom_cnn_history,\"Custom CNN\")\n",
        "plot_learning_curve(vgg16_history,\"VGG16\")\n",
        "plot_learning_curve(history_siamese,\"Siamese Network\")\n"
      ]
    },
    {
      "cell_type": "code",
      "source": [
        "def create_pairs(X,y):\n",
        "    pairs=[]\n",
        "    labels=[]\n",
        "\n",
        "    num_classes=np.unique(y).shape[0]\n",
        "\n",
        "    for i in range(len(X)):\n",
        "        for j in range(i + 1,len(X)):\n",
        "            pairs.append([X[i],X[j]])\n",
        "            labels.append(1 if y[i]==y[j] else 0)\n",
        "\n",
        "    return np.array(pairs),np.array(labels)\n",
        "\n",
        "# Step 8: Evaluate Siamese Network Model (requires pairs creation)\n",
        "\n",
        "def create_pairs(X,y):\n",
        "    pairs=[]\n",
        "    labels=[]\n",
        "\n",
        "    num_classes=np.unique(y).shape[0]\n",
        "\n",
        "    for i in range(len(X)):\n",
        "        for j in range(i + 1,len(X)):\n",
        "            pairs.append([X[i],X[j]])\n",
        "            labels.append(1 if y[i]==y[j] else 0)\n",
        "\n",
        "    return np.array(pairs),np.array(labels)\n",
        "\n",
        "train_pairs ,train_labels=create_pairs(X_train.reshape(-1 ,128*128*3),train_labels)\n",
        "val_pairs ,val_labels=create_pairs(X_val.reshape(-1 ,128*128*3),val_labels)\n",
        "\n",
        "siamese_model=siamese_network((128 ,128 ,3))\n",
        "siamese_model.compile(optimizer=Adam(learning_rate=0.00001),loss='binary_crossentropy',metrics=['accuracy'])\n",
        "\n",
        "history_siamese=siamese_model.fit([train_pairs[:,0],train_pairs[:,1]],train_labels,\n",
        "                                   validation_data=([val_pairs[:,0],val_pairs[:,1]],val_labels),\n",
        "                                   epochs=20,batch_size=32)\n",
        "\n",
        "# Evaluate Siamese Network on Test Data (Create Test Pairs)\n",
        "test_pairs,test_labels=create_pairs(X_test.reshape(-1 ,128*128*3),test_labels)\n",
        "\n",
        "def evaluate_siamese_model(model,X,y_true):\n",
        "   y_pred=(model.predict([X[:,0],X[:,1]]) > 0.5).astype(\"int32\")\n",
        "   print(classification_report(y_true,y_pred))\n",
        "   cm=confusion_matrix(y_true,y_pred)\n",
        "   sns.heatmap(cm ,annot=True ,fmt='d' ,cmap='Blues' ,xticklabels=[\"Forged\",\"Real\"] ,yticklabels=[\"Forged\",\"Real\"])\n",
        "   plt.xlabel('Predicted')\n",
        "   plt.ylabel('True')\n",
        "   plt.show()\n",
        "\n",
        "evaluate_siamese_model(siamese_model,test_pairs,test_labels)\n",
        "\n",
        "# Step 9: Compare Results - Plot Learning Curves for Each Model\n",
        "\n",
        "def plot_learning_curve(history,title):\n",
        "   plt.figure(figsize=(10 ,6))\n",
        "   plt.plot(history.history['accuracy'], label='Train Accuracy')\n",
        "   plt.plot(history.history['val_accuracy'], label='Validation Accuracy')\n",
        "   plt.title(f'{title} Learning Curve')\n",
        "   plt.legend()\n",
        "   plt.show()\n",
        "\n",
        "plot_learning_curve(custom_cnn_history,\"Custom CNN\")\n",
        "plot_learning_curve(vgg16_history,\"VGG16\")\n",
        "plot_learning_curve(history_siamese,\"Siamese Network\")\n"
      ],
      "metadata": {
        "id": "PRZ8zEmZ58Xl"
      },
      "execution_count": null,
      "outputs": []
    }
  ]
}